{
 "cells": [
  {
   "attachments": {},
   "cell_type": "markdown",
   "metadata": {},
   "source": [
    "### Install Computer Vision Library"
   ]
  },
  {
   "cell_type": "code",
   "execution_count": null,
   "metadata": {},
   "outputs": [],
   "source": [
    "! pip install azure-cognitiveservices-vision-computervision"
   ]
  },
  {
   "attachments": {},
   "cell_type": "markdown",
   "metadata": {},
   "source": [
    "### Create script"
   ]
  },
  {
   "attachments": {},
   "cell_type": "markdown",
   "metadata": {},
   "source": [
    "1. Import libraries"
   ]
  },
  {
   "cell_type": "code",
   "execution_count": null,
   "metadata": {},
   "outputs": [],
   "source": [
    "from azure.cognitiveservices.vision.computervision import ComputerVisionClient\n",
    "from msrest.authentication import CognitiveServicesCredentials\n",
    "from azure.cognitiveservices.vision.computervision.models import OperationStatusCodes\n",
    "from PIL import Image\n",
    "import time\n",
    "import os"
   ]
  },
  {
   "attachments": {},
   "cell_type": "markdown",
   "metadata": {},
   "source": [
    "2. Create variables for Computer Vision resource. Replace `YOUR_KEY` with Key 1 and `YOUR_ENDPOINT` with your Endpoint."
   ]
  },
  {
   "cell_type": "code",
   "execution_count": null,
   "metadata": {},
   "outputs": [],
   "source": [
    "key = 'YOUR_KEY'\n",
    "endpoint = 'YOUR_ENDPOINT'"
   ]
  },
  {
   "attachments": {},
   "cell_type": "markdown",
   "metadata": {},
   "source": [
    "3. Authenticate client."
   ]
  },
  {
   "cell_type": "code",
   "execution_count": null,
   "metadata": {},
   "outputs": [],
   "source": [
    "computervision_client = ComputerVisionClient(endpoint, CognitiveServicesCredentials(key))"
   ]
  },
  {
   "attachments": {},
   "cell_type": "markdown",
   "metadata": {},
   "source": [
    "### Extract text from photos"
   ]
  },
  {
   "cell_type": "code",
   "execution_count": null,
   "metadata": {},
   "outputs": [],
   "source": [
    "# Open local image file\n",
    "with open(image_file, \"rb\") as image:\n",
    "    # Call the API\n",
    "    read_response = computervision_client.read_in_stream(image, raw=True)\n",
    "# Get the operation location (URL with an ID at the end)\n",
    "read_operation_location = read_response.headers[\"Operation-Location\"]\n",
    "# Grab the ID from the URL\n",
    "operation_id = read_operation_location.split(\"/\")[-1]\n",
    "# Retrieve the results \n",
    "while True:\n",
    "    read_result = computervision_client.get_read_result(operation_id)\n",
    "    if read_result.status.lower() not in ['notstarted', 'running']:\n",
    "        break\n",
    "    time.sleep(1)\n",
    "# Get the detected text\n",
    "if read_result.status == OperationStatusCodes.succeeded:\n",
    "    for page in read_result.analyze_result.read_results:\n",
    "        for line in page.lines:\n",
    "            # Print line\n",
    "            print(line.text)"
   ]
  },
  {
   "attachments": {},
   "cell_type": "markdown",
   "metadata": {},
   "source": [
    "### Full Script"
   ]
  },
  {
   "cell_type": "code",
   "execution_count": null,
   "metadata": {},
   "outputs": [],
   "source": [
    "from azure.cognitiveservices.vision.computervision import ComputerVisionClient\n",
    "from msrest.authentication import CognitiveServicesCredentials\n",
    "from azure.cognitiveservices.vision.computervision.models import OperationStatusCodes\n",
    "import time\n",
    "from dotenv import load_dotenv\n",
    "import os\n",
    "\n",
    "def main():\n",
    "    try:\n",
    "        # Get Configuration Settings\n",
    "        load_dotenv()\n",
    "        endpoint = os.getenv('COG_SERVICE_ENDPOINT')\n",
    "        key = os.getenv('COG_SERVICE_KEY')\n",
    "        # Authenticate Computer Vision client\n",
    "        computervision_client = ComputerVisionClient(endpoint, CognitiveServicesCredentials(key))\n",
    "        # Extract test\n",
    "        images_folder = os.path.join (os.path.dirname(os.path.abspath(__file__)), \"images\")\n",
    "        read_image_path = os.path.join (images_folder, \"notes1.jpg\")\n",
    "        get_text(read_image_path,computervision_client)\n",
    "        print('\\n')\n",
    "        read_image_path = os.path.join (images_folder, \"notes2.jpg\")\n",
    "        get_text(read_image_path,computervision_client)\n",
    "    \n",
    "    except Exception as ex:\n",
    "        print(ex)\n",
    "\n",
    "\n",
    "def get_text(image_file,computervision_client):\n",
    "    # Open local image file\n",
    "    with open(image_file, \"rb\") as image:\n",
    "        # Call the API\n",
    "        read_response = computervision_client.read_in_stream(image, raw=True)\n",
    "\n",
    "    # Get the operation location (URL with an ID at the end)\n",
    "    read_operation_location = read_response.headers[\"Operation-Location\"]\n",
    "    # Grab the ID from the URL\n",
    "    operation_id = read_operation_location.split(\"/\")[-1]\n",
    "\n",
    "    # Retrieve the results \n",
    "    while True:\n",
    "        read_result = computervision_client.get_read_result(operation_id)\n",
    "        if read_result.status.lower() not in ['notstarted', 'running']:\n",
    "            break\n",
    "        time.sleep(1)\n",
    "\n",
    "    # Get the detected text\n",
    "    if read_result.status == OperationStatusCodes.succeeded:\n",
    "        for page in read_result.analyze_result.read_results:\n",
    "            for line in page.lines:\n",
    "                # Print line\n",
    "                print(line.text)\n",
    "\n",
    "\n",
    "if __name__ == \"__main__\":\n",
    "    main()"
   ]
  }
 ],
 "metadata": {
  "language_info": {
   "name": "python"
  },
  "orig_nbformat": 4
 },
 "nbformat": 4,
 "nbformat_minor": 2
}
