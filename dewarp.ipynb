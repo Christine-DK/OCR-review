{
  "nbformat": 4,
  "nbformat_minor": 0,
  "metadata": {
    "colab": {
      "provenance": [],
      "authorship_tag": "ABX9TyNjtsdy7ew4c6XoXzIosXeW",
      "include_colab_link": true
    },
    "kernelspec": {
      "name": "python3",
      "display_name": "Python 3"
    },
    "language_info": {
      "name": "python"
    }
  },
  "cells": [
    {
      "cell_type": "markdown",
      "metadata": {
        "id": "view-in-github",
        "colab_type": "text"
      },
      "source": [
        "<a href=\"https://colab.research.google.com/github/datakind/OCR-review/blob/main/dewarp.ipynb\" target=\"_parent\"><img src=\"https://colab.research.google.com/assets/colab-badge.svg\" alt=\"Open In Colab\"/></a>"
      ]
    },
    {
      "cell_type": "code",
      "execution_count": 4,
      "metadata": {
        "colab": {
          "base_uri": "https://localhost:8080/"
        },
        "id": "_G4aU3l5xGcf",
        "outputId": "0cf4caac-adc6-4b26-c1a6-16def2dfbc6c"
      },
      "outputs": [
        {
          "output_type": "stream",
          "name": "stdout",
          "text": [
            "Looking in indexes: https://pypi.org/simple, https://us-python.pkg.dev/colab-wheels/public/simple/\n",
            "Collecting git+https://github.com/mzucker/page_dewarp@master\n",
            "  Cloning https://github.com/mzucker/page_dewarp (to revision master) to /tmp/pip-req-build-2o6chfh1\n",
            "  Running command git clone --filter=blob:none --quiet https://github.com/mzucker/page_dewarp /tmp/pip-req-build-2o6chfh1\n",
            "  Resolved https://github.com/mzucker/page_dewarp to commit d3257d7b564bff994187a872d00537bc2fda7d3d\n",
            "\u001b[31mERROR: git+https://github.com/mzucker/page_dewarp@master does not appear to be a Python project: neither 'setup.py' nor 'pyproject.toml' found.\u001b[0m\u001b[31m\n",
            "\u001b[0m"
          ]
        }
      ],
      "source": [
        "# ! pip install git+https://github.com/mzucker/page_dewarp@master \n",
        "# ERROR: git+https://github.com/mzucker/page_dewarp@master does not appear to be a Python project: neither 'setup.py' nor 'pyproject.toml' found.\n"
      ]
    },
    {
      "cell_type": "code",
      "source": [
        "! pip install git+https://github.com/mzucker/page_dewarp.git"
      ],
      "metadata": {
        "colab": {
          "base_uri": "https://localhost:8080/"
        },
        "id": "L3mRXepLyNzB",
        "outputId": "62dfdf2b-21e8-46d0-d1ab-4d03cb4ba942"
      },
      "execution_count": 3,
      "outputs": [
        {
          "output_type": "stream",
          "name": "stdout",
          "text": [
            "Looking in indexes: https://pypi.org/simple, https://us-python.pkg.dev/colab-wheels/public/simple/\n",
            "Collecting git+https://github.com/mzucker/page_dewarp.git\n",
            "  Cloning https://github.com/mzucker/page_dewarp.git to /tmp/pip-req-build-pilto3os\n",
            "  Running command git clone --filter=blob:none --quiet https://github.com/mzucker/page_dewarp.git /tmp/pip-req-build-pilto3os\n",
            "  Resolved https://github.com/mzucker/page_dewarp.git to commit d3257d7b564bff994187a872d00537bc2fda7d3d\n",
            "\u001b[31mERROR: git+https://github.com/mzucker/page_dewarp.git does not appear to be a Python project: neither 'setup.py' nor 'pyproject.toml' found.\u001b[0m\u001b[31m\n",
            "\u001b[0m"
          ]
        }
      ]
    }
  ]
}