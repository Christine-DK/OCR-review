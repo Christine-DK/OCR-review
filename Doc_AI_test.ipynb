{
  "cells": [
    {
      "cell_type": "markdown",
      "metadata": {
        "id": "view-in-github",
        "colab_type": "text"
      },
      "source": [
        "<a href=\"https://colab.research.google.com/github/datakind/OCR-review/blob/main/Doc_AI_test.ipynb\" target=\"_parent\"><img src=\"https://colab.research.google.com/assets/colab-badge.svg\" alt=\"Open In Colab\"/></a>"
      ]
    },
    {
      "cell_type": "markdown",
      "source": [
        "# Document AI\n",
        "Google service (API) to parse structured information from unstructured or semi-structured documents using state-of-the-art Google AI such as natural language, computer vision, translation, and AutoML."
      ],
      "metadata": {
        "id": "AMyDKXCjygvE"
      }
    },
    {
      "cell_type": "markdown",
      "source": [
        "Install gCloud CLI"
      ],
      "metadata": {
        "id": "NcWRFfYj24dp"
      }
    },
    {
      "cell_type": "code",
      "source": [
        "#!curl -O https://dl.google.com/dl/cloudsdk/channels/rapid/downloads/google-cloud-cli-435.0.1-linux-x86_64.tar.gz # unnecessary for Google Colab Notebooks"
      ],
      "metadata": {
        "id": "9v5bDEU13-KI"
      },
      "execution_count": null,
      "outputs": []
    },
    {
      "cell_type": "markdown",
      "source": [
        "Initialize gCloud CLI"
      ],
      "metadata": {
        "id": "PqnlhaL55Mjw"
      }
    },
    {
      "cell_type": "code",
      "source": [
        "!gcloud init # Follow prompts to configure and log in. Project = \"dk-ocr-test\""
      ],
      "metadata": {
        "colab": {
          "base_uri": "https://localhost:8080/"
        },
        "id": "AoSU4BXA4XxQ",
        "outputId": "28f36222-c206-4ae6-eceb-8d289c957e60"
      },
      "execution_count": null,
      "outputs": [
        {
          "output_type": "stream",
          "name": "stdout",
          "text": [
            "Welcome! This command will take you through the configuration of gcloud.\n",
            "\n",
            "Settings from your current configuration [default] are:\n",
            "component_manager:\n",
            "  disable_update_check: 'True'\n",
            "compute:\n",
            "  gce_metadata_read_timeout_sec: '0'\n",
            "\n",
            "Pick configuration to use:\n",
            " [1] Re-initialize this configuration [default] with new settings \n",
            " [2] Create a new configuration\n",
            "Please enter your numeric choice:  1\n",
            "\n",
            "Your current configuration has been set to: [default]\n",
            "\n",
            "You can skip diagnostics next time by using the following flag:\n",
            "  gcloud init --skip-diagnostics\n",
            "\n",
            "Network diagnostic detects and fixes local network connection issues.\n",
            "Reachability Check passed.\n",
            "Network diagnostic passed (1/1 checks passed).\n",
            "\n",
            "You must log in to continue. Would you like to log in (Y/n)?  Y\n",
            "\n",
            "Go to the following link in your browser:\n",
            "\n",
            "    https://accounts.google.com/o/oauth2/auth?response_type=code&client_id=32555940559.apps.googleusercontent.com&redirect_uri=https%3A%2F%2Fsdk.cloud.google.com%2Fauthcode.html&scope=openid+https%3A%2F%2Fwww.googleapis.com%2Fauth%2Fuserinfo.email+https%3A%2F%2Fwww.googleapis.com%2Fauth%2Fcloud-platform+https%3A%2F%2Fwww.googleapis.com%2Fauth%2Fappengine.admin+https%3A%2F%2Fwww.googleapis.com%2Fauth%2Fsqlservice.login+https%3A%2F%2Fwww.googleapis.com%2Fauth%2Fcompute+https%3A%2F%2Fwww.googleapis.com%2Fauth%2Faccounts.reauth&state=Igh9u8qpWlBMoi12eHwvoibhLlHwfe&prompt=consent&access_type=offline&code_challenge=xcdqRxHCtPmHsyit3isGMl2x1p7Owlb7Ma2nPYUU_T4&code_challenge_method=S256\n",
            "\n",
            "Enter authorization code: 4/0AbUR2VMJlHxzUK50q46mm2k4KblOXH1ZeG6rXhO7003FgGplw69p5fzhIEydZxBJCk-yeQ\n",
            "You are logged in as: [christine.amuzie@datakind.org].\n",
            "\n",
            "Pick cloud project to use: \n",
            " [1] datakind-386320\n",
            " [2] dk-mapping-engine-test\n",
            " [3] dk-ocr-test\n",
            " [4] Enter a project ID\n",
            " [5] Create a new project\n",
            "Please enter numeric choice or text value (must exactly match list item):  3\n",
            "\n",
            "Your current project has been set to: [dk-ocr-test].\n",
            "\n",
            "Do you want to configure a default Compute Region and Zone? (Y/n)?  Y\n",
            "\n",
            "Which Google Compute Engine zone would you like to use as project default?\n",
            "If you do not specify a zone via a command line flag while working with Compute \n",
            "Engine resources, the default is assumed.\n",
            " [1] us-east1-b\n",
            " [2] us-east1-c\n",
            " [3] us-east1-d\n",
            " [4] us-east4-c\n",
            " [5] us-east4-b\n",
            " [6] us-east4-a\n",
            " [7] us-central1-c\n",
            " [8] us-central1-a\n",
            " [9] us-central1-f\n",
            " [10] us-central1-b\n",
            " [11] us-west1-b\n",
            " [12] us-west1-c\n",
            " [13] us-west1-a\n",
            " [14] europe-west4-a\n",
            " [15] europe-west4-b\n",
            " [16] europe-west4-c\n",
            " [17] europe-west1-b\n",
            " [18] europe-west1-d\n",
            " [19] europe-west1-c\n",
            " [20] europe-west3-c\n",
            " [21] europe-west3-a\n",
            " [22] europe-west3-b\n",
            " [23] europe-west2-c\n",
            " [24] europe-west2-b\n",
            " [25] europe-west2-a\n",
            " [26] asia-east1-b\n",
            " [27] asia-east1-a\n",
            " [28] asia-east1-c\n",
            " [29] asia-southeast1-b\n",
            " [30] asia-southeast1-a\n",
            " [31] asia-southeast1-c\n",
            " [32] asia-northeast1-b\n",
            " [33] asia-northeast1-c\n",
            " [34] asia-northeast1-a\n",
            " [35] asia-south1-c\n",
            " [36] asia-south1-b\n",
            " [37] asia-south1-a\n",
            " [38] australia-southeast1-b\n",
            " [39] australia-southeast1-c\n",
            " [40] australia-southeast1-a\n",
            " [41] southamerica-east1-b\n",
            " [42] southamerica-east1-c\n",
            " [43] southamerica-east1-a\n",
            " [44] asia-east2-a\n",
            " [45] asia-east2-b\n",
            " [46] asia-east2-c\n",
            " [47] asia-northeast2-a\n",
            " [48] asia-northeast2-b\n",
            " [49] asia-northeast2-c\n",
            " [50] asia-northeast3-a\n",
            "Did not print [63] options.\n",
            "Too many options [113]. Enter \"list\" at prompt to print choices fully.\n",
            "Please enter numeric choice or text value (must exactly match list item):  1\n",
            "\n",
            "Your project default Compute Engine zone has been set to [us-east1-b].\n",
            "You can change it by running [gcloud config set compute/zone NAME].\n",
            "\n",
            "Your project default Compute Engine region has been set to [us-east1].\n",
            "You can change it by running [gcloud config set compute/region NAME].\n",
            "\n",
            "Your Google Cloud SDK is configured and ready to use!\n",
            "\n",
            "* Commands that require authentication will use christine.amuzie@datakind.org by default\n",
            "* Commands will reference project `dk-ocr-test` by default\n",
            "* Compute Engine commands will use region `us-east1` by default\n",
            "* Compute Engine commands will use zone `us-east1-b` by default\n",
            "\n",
            "Run `gcloud help config` to learn how to change individual settings\n",
            "\n",
            "This gcloud configuration is called [default]. You can create additional configurations if you work with multiple accounts and/or projects.\n",
            "Run `gcloud topic configurations` to learn more.\n",
            "\n",
            "Some things to try next:\n",
            "\n",
            "* Run `gcloud --help` to see the Cloud Platform services you can interact with. And run `gcloud help COMMAND` to get help on any gcloud command.\n",
            "* Run `gcloud topic --help` to learn about advanced features of the SDK like arg files and output formatting\n",
            "* Run `gcloud cheat-sheet` to see a roster of go-to `gcloud` commands.\n"
          ]
        }
      ]
    },
    {
      "cell_type": "markdown",
      "source": [
        "Setting up Application Default Credentials (ADC) for Google API client libraries"
      ],
      "metadata": {
        "id": "QFHcT3JbzNzu"
      }
    },
    {
      "cell_type": "code",
      "source": [
        "!gcloud auth application-default login"
      ],
      "metadata": {
        "colab": {
          "base_uri": "https://localhost:8080/"
        },
        "id": "INdY4oSJ6Ca1",
        "outputId": "f893c9b2-266b-4188-8ff1-464289d4a9ce"
      },
      "execution_count": null,
      "outputs": [
        {
          "output_type": "stream",
          "name": "stdout",
          "text": [
            "Go to the following link in your browser:\n",
            "\n",
            "    https://accounts.google.com/o/oauth2/auth?response_type=code&client_id=764086051850-6qr4p6gpi6hn506pt8ejuq83di341hur.apps.googleusercontent.com&redirect_uri=https%3A%2F%2Fsdk.cloud.google.com%2Fapplicationdefaultauthcode.html&scope=openid+https%3A%2F%2Fwww.googleapis.com%2Fauth%2Fuserinfo.email+https%3A%2F%2Fwww.googleapis.com%2Fauth%2Fcloud-platform+https%3A%2F%2Fwww.googleapis.com%2Fauth%2Fsqlservice.login+https%3A%2F%2Fwww.googleapis.com%2Fauth%2Faccounts.reauth&state=AMseSgvrNM0tE16AaGV3JfXMpU5fkw&prompt=consent&access_type=offline&code_challenge=CZxfUuYZpxjUhULtAwN6cKO5Ed0hRz04rKpjA8m-Uk4&code_challenge_method=S256\n",
            "\n",
            "Enter authorization code: 4/0AbUR2VN-h1NILGNJjfBR480G0fprermJ8jhHTeOjvg-9MDyZurpIXcyWuvmso4vTqubAIQ\n",
            "\n",
            "Credentials saved to file: [/content/.config/application_default_credentials.json]\n",
            "\n",
            "These credentials will be used by any library that requests Application Default Credentials (ADC).\n",
            "\n",
            "Quota project \"dk-ocr-test\" was added to ADC which can be used by Google client libraries for billing and quota. Note that some services may still bill the project owning the resource.\n"
          ]
        }
      ]
    },
    {
      "cell_type": "markdown",
      "source": [
        "Import GCP libraries"
      ],
      "metadata": {
        "id": "a65_t7d226qJ"
      }
    },
    {
      "cell_type": "code",
      "source": [
        "!pip install google # unnecessary for Google Colab Notebooks\n",
        "!pip install google.cloud\n",
        "!pip install google-cloud-documentai"
      ],
      "metadata": {
        "colab": {
          "base_uri": "https://localhost:8080/"
        },
        "id": "HZzo7-S76gYQ",
        "outputId": "baade0bb-f3be-406d-e14f-35c0dfc41a67"
      },
      "execution_count": null,
      "outputs": [
        {
          "output_type": "stream",
          "name": "stdout",
          "text": [
            "Looking in indexes: https://pypi.org/simple, https://us-python.pkg.dev/colab-wheels/public/simple/\n",
            "Requirement already satisfied: google in /usr/local/lib/python3.10/dist-packages (2.0.3)\n",
            "Requirement already satisfied: beautifulsoup4 in /usr/local/lib/python3.10/dist-packages (from google) (4.11.2)\n",
            "Requirement already satisfied: soupsieve>1.2 in /usr/local/lib/python3.10/dist-packages (from beautifulsoup4->google) (2.4.1)\n"
          ]
        }
      ]
    },
    {
      "cell_type": "code",
      "source": [
        "from __future__ import annotations\n",
        "\n",
        "from collections.abc import Sequence\n",
        "\n",
        "from google.api_core.client_options import ClientOptions\n",
        "import google.cloud.documentai as documentai  # type: ignore"
      ],
      "metadata": {
        "id": "NtnvIPp0624y"
      },
      "execution_count": null,
      "outputs": []
    },
    {
      "cell_type": "markdown",
      "source": [
        "Environmental variable assignment"
      ],
      "metadata": {
        "id": "8iTnt82N8jCx"
      }
    },
    {
      "cell_type": "code",
      "source": [
        "project_id = 'YOUR_PROJECT_ID'\n",
        "location = 'YOUR_PROCESSOR_LOCATION' # Format is 'us' or 'eu'\n",
        "processor_id = 'YOUR_PROCESSOR_ID' # Create processor before running sample\n",
        "processor_version = 'rc' # Refer to https://cloud.google.com/document-ai/docs/manage-processor-versions for more information\n",
        "file_path = '/ocr-data/dataset/the.jpg'\n",
        "mime_type = 'image/jpeg' # Refer to https://cloud.google.com/document-ai/docs/file-types"
      ],
      "metadata": {
        "id": "b68RexNH8cXq"
      },
      "execution_count": null,
      "outputs": []
    },
    {
      "cell_type": "markdown",
      "source": [
        "Define `process_document_ocr_sample` function for Document AI API requests"
      ],
      "metadata": {
        "id": "urjMqOep9XHV"
      }
    },
    {
      "cell_type": "code",
      "execution_count": null,
      "metadata": {
        "id": "5wLUIa6ffhDF"
      },
      "outputs": [],
      "source": [
        "def process_document_ocr_sample(\n",
        "    project_id: str,\n",
        "    location: str,\n",
        "    processor_id: str,\n",
        "    processor_version: str,\n",
        "    file_path: str,\n",
        "    mime_type: str,\n",
        ") -> None:\n",
        "    # Online processing request to Document AI\n",
        "    document = process_document(\n",
        "        project_id, location, processor_id, processor_version, file_path, mime_type\n",
        "    )\n",
        "\n",
        "    # For a full list of Document object attributes, please reference this page:\n",
        "    # https://cloud.google.com/python/docs/reference/documentai/latest/google.cloud.documentai_v1.types.Document\n",
        "\n",
        "    text = document.text\n",
        "    print(f\"Full document text: {text}\\n\")\n",
        "    print(f\"There are {len(document.pages)} page(s) in this document.\\n\")\n",
        "\n",
        "    for page in document.pages:\n",
        "        print(f\"Page {page.page_number}:\")\n",
        "        print_page_dimensions(page.dimension)\n",
        "        print_detected_langauges(page.detected_languages)\n",
        "        print_paragraphs(page.paragraphs, text)\n",
        "        print_blocks(page.blocks, text)\n",
        "        print_lines(page.lines, text)\n",
        "        print_tokens(page.tokens, text)\n",
        "\n",
        "        # Currently supported in version pretrained-ocr-v1.1-2022-09-12\n",
        "        if page.image_quality_scores:\n",
        "            print_image_quality_scores(page.image_quality_scores)\n",
        "\n",
        "\n",
        "def process_document(\n",
        "    project_id: str,\n",
        "    location: str,\n",
        "    processor_id: str,\n",
        "    processor_version: str,\n",
        "    file_path: str,\n",
        "    mime_type: str,\n",
        ") -> documentai.Document:\n",
        "    # You must set the api_endpoint if you use a location other than 'us'.\n",
        "    opts = ClientOptions(api_endpoint=f\"{location}-documentai.googleapis.com\")\n",
        "\n",
        "    client = documentai.DocumentProcessorServiceClient(client_options=opts)\n",
        "\n",
        "    # The full resource name of the processor version\n",
        "    # e.g. projects/{project_id}/locations/{location}/processors/{processor_id}/processorVersions/{processor_version_id}\n",
        "    # You must create processors before running sample code.\n",
        "    name = client.processor_version_path(\n",
        "        project_id, location, processor_id, processor_version\n",
        "    )\n",
        "\n",
        "    # Read the file into memory\n",
        "    with open(file_path, \"rb\") as image:\n",
        "        image_content = image.read()\n",
        "\n",
        "    # Load Binary Data into Document AI RawDocument Object\n",
        "    raw_document = documentai.RawDocument(content=image_content, mime_type=mime_type)\n",
        "\n",
        "    # Configure the process request\n",
        "    request = documentai.ProcessRequest(name=name, raw_document=raw_document)\n",
        "\n",
        "    result = client.process_document(request=request)\n",
        "\n",
        "    return result.document\n",
        "\n",
        "\n",
        "def print_page_dimensions(dimension: documentai.Document.Page.Dimension) -> None:\n",
        "    print(f\"    Width: {str(dimension.width)}\")\n",
        "    print(f\"    Height: {str(dimension.height)}\")\n",
        "\n",
        "\n",
        "def print_detected_langauges(\n",
        "    detected_languages: Sequence[documentai.Document.Page.DetectedLanguage],\n",
        ") -> None:\n",
        "    print(\"    Detected languages:\")\n",
        "    for lang in detected_languages:\n",
        "        code = lang.language_code\n",
        "        print(f\"        {code} ({lang.confidence:.1%} confidence)\")\n",
        "\n",
        "\n",
        "def print_paragraphs(\n",
        "    paragraphs: Sequence[documentai.Document.Page.Paragraph], text: str\n",
        ") -> None:\n",
        "    print(f\"    {len(paragraphs)} paragraphs detected:\")\n",
        "    first_paragraph_text = layout_to_text(paragraphs[0].layout, text)\n",
        "    print(f\"        First paragraph text: {repr(first_paragraph_text)}\")\n",
        "    last_paragraph_text = layout_to_text(paragraphs[-1].layout, text)\n",
        "    print(f\"        Last paragraph text: {repr(last_paragraph_text)}\")\n",
        "\n",
        "\n",
        "def print_blocks(blocks: Sequence[documentai.Document.Page.Block], text: str) -> None:\n",
        "    print(f\"    {len(blocks)} blocks detected:\")\n",
        "    first_block_text = layout_to_text(blocks[0].layout, text)\n",
        "    print(f\"        First text block: {repr(first_block_text)}\")\n",
        "    last_block_text = layout_to_text(blocks[-1].layout, text)\n",
        "    print(f\"        Last text block: {repr(last_block_text)}\")\n",
        "\n",
        "\n",
        "def print_lines(lines: Sequence[documentai.Document.Page.Line], text: str) -> None:\n",
        "    print(f\"    {len(lines)} lines detected:\")\n",
        "    first_line_text = layout_to_text(lines[0].layout, text)\n",
        "    print(f\"        First line text: {repr(first_line_text)}\")\n",
        "    last_line_text = layout_to_text(lines[-1].layout, text)\n",
        "    print(f\"        Last line text: {repr(last_line_text)}\")\n",
        "\n",
        "\n",
        "def print_tokens(tokens: Sequence[documentai.Document.Page.Token], text: str) -> None:\n",
        "    print(f\"    {len(tokens)} tokens detected:\")\n",
        "    first_token_text = layout_to_text(tokens[0].layout, text)\n",
        "    first_token_break_type = tokens[0].detected_break.type_.name\n",
        "    print(f\"        First token text: {repr(first_token_text)}\")\n",
        "    print(f\"        First token break type: {repr(first_token_break_type)}\")\n",
        "    last_token_text = layout_to_text(tokens[-1].layout, text)\n",
        "    last_token_break_type = tokens[-1].detected_break.type_.name\n",
        "    print(f\"        Last token text: {repr(last_token_text)}\")\n",
        "    print(f\"        Last token break type: {repr(last_token_break_type)}\")\n",
        "\n",
        "\n",
        "def print_image_quality_scores(\n",
        "    image_quality_scores: documentai.Document.Page.ImageQualityScores,\n",
        ") -> None:\n",
        "    print(f\"    Quality score: {image_quality_scores.quality_score:.1%}\")\n",
        "    print(\"    Detected defects:\")\n",
        "\n",
        "    for detected_defect in image_quality_scores.detected_defects:\n",
        "        print(f\"        {detected_defect.type_}: {detected_defect.confidence:.1%}\")\n",
        "\n",
        "\n",
        "def layout_to_text(layout: documentai.Document.Page.Layout, text: str) -> str:\n",
        "    \"\"\"\n",
        "    Document AI identifies text in different parts of the document by their\n",
        "    offsets in the entirety of the document's text. This function converts\n",
        "    offsets to a string.\n",
        "    \"\"\"\n",
        "    response = \"\"\n",
        "    # If a text segment spans several lines, it will\n",
        "    # be stored in different text segments.\n",
        "    for segment in layout.text_anchor.text_segments:\n",
        "        start_index = int(segment.start_index)\n",
        "        end_index = int(segment.end_index)\n",
        "        response += text[start_index:end_index]\n",
        "    return response"
      ]
    }
  ],
  "metadata": {
    "kernelspec": {
      "display_name": "Python 3",
      "language": "python",
      "name": "python3"
    },
    "language_info": {
      "codemirror_mode": {
        "name": "ipython",
        "version": 3
      },
      "file_extension": ".py",
      "mimetype": "text/x-python",
      "name": "python",
      "nbconvert_exporter": "python",
      "pygments_lexer": "ipython3",
      "version": "3.10.4"
    },
    "orig_nbformat": 4,
    "colab": {
      "provenance": [],
      "include_colab_link": true
    }
  },
  "nbformat": 4,
  "nbformat_minor": 0
}